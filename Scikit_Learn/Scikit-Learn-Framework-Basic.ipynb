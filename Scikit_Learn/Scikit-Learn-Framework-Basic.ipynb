{
 "cells": [
  {
   "cell_type": "markdown",
   "id": "ebde6a84",
   "metadata": {},
   "source": [
    "## Estimator 이해 및 fit(), predict() 메서드"
   ]
  },
  {
   "cell_type": "markdown",
   "id": "e56ebfe9",
   "metadata": {},
   "source": [
    "- ## Estimaor\n",
    "학습 : fit()<br>\n",
    "예측 : predict()\n",
    "    - ## Classifier(분류)\n",
    "        분류 구현 클래스\n",
    "        - DecisionTreeClassifier\n",
    "        - RandomForestClassifier\n",
    "        - GradientBoostingClassifier\n",
    "        - GaussianNB\n",
    "        - SVC\n",
    "    - ## Regressor(회귀)\n",
    "        회귀 구현 클래스\n",
    "        - LinearRegression\n",
    "        - Ridge\n",
    "        - Lasso\n",
    "        - RandomForestRegressor\n",
    "        - GradientBoostingRegressor"
   ]
  },
  {
   "cell_type": "markdown",
   "id": "bc90c70f",
   "metadata": {},
   "source": [
    "## 사이킷런의 주요 모듈"
   ]
  },
  {
   "cell_type": "markdown",
   "id": "6ab54be1",
   "metadata": {},
   "source": [
    "<table>\n",
    "    <thead>\n",
    "        <tr>\n",
    "            <th>분류</th>\n",
    "            <th>모듈명</th>\n",
    "            <th>설명</th>\n",
    "        </tr>\n",
    "    </thead>\n",
    "    <tbody>\n",
    "        <tr>\n",
    "            <td>예제 데이터</td>\n",
    "            <td>sklearn.datasets</td>\n",
    "            <td>사이킷런에 내장되어 예제로 제공하는 데이터 세트</td>\n",
    "        </tr>\n",
    "        <tr>\n",
    "            <td rowspan=3>피처 처리</td>\n",
    "            <td>sklearn.preprocessing</td>\n",
    "            <td>데이터 전처리에 필요한 다양한 가공 기능 제공(문자열을 숫자형 코드 값으로 인코딩, 정규화, 스케일링 등)</td>\n",
    "        </tr>\n",
    "        <tr>\n",
    "            <td>sklearn.feature_selection</td>\n",
    "            <td>알고리즘에 큰 영향을 미치는 피처를 우선순위대로 셀렉션 작업을 수행하는 다양한 기능 제공</td>\n",
    "        </tr>\n",
    "        <tr>\n",
    "            <td>sklearn.feature_extraction</td>\n",
    "            <td>텍스트 데이터나 이미지 데이터의 벡터화된 피처를 추출하는데 사용<br>예를 들어 텍스트 데이터에서 Count Vectorizer나 Tf-Idf Vectorizer 등을 생성하는 기능 제공<br>텍스트 데이터의 피처 추출은 sklearn.feature_extraction.text 모듈에, 이미지 데이터의 추출은 sklearn.feature_extraction.image 모듈에 지원 API가 있음</td>\n",
    "        </tr>\n",
    "        <tr>\n",
    "            <td>피처 처리 & 차원 축소</td>\n",
    "            <td>sklearn.decomposition</td>\n",
    "            <td>차원 축소와 관련한 알고리즘을 지원하는 모듈<br>PCA, NMF, Truncated SVD 등을 통해 차원 축소 기능을 수행할 수 있음</td>\n",
    "        </tr>\n",
    "        <tr>\n",
    "            <td>데이터 분리, 검증 & 파라미터 튜닝</td>\n",
    "            <td>sklearn.model_selection</td>\n",
    "            <td>교차 검증을 위한 학습용/테스트용 분리, 그리드 서치(Grid Search)로 최적 파라미터 추출 등의 API 제공</td>\n",
    "        </tr>\n",
    "        <tr>\n",
    "            <td>평가</td>\n",
    "            <td>sklearn.metrics</td>\n",
    "            <td>분류, 회귀, 클러스터링, 페어와이즈(Pairwise)에 대한 다양한 성능 측정 방법 제공<br>Accuracy, Precision, Recall, ROC-AUC, RMSE 등 제공</td>\n",
    "        </tr>\n",
    "        <tr>\n",
    "            <td rowspan=7>ML 알고리즘</td>\n",
    "            <td>sklearn.ensemble</td>\n",
    "            <td>앙상블 알고리즘 제공<br>랜덤 포레스트, 에이다 부스트, 그래디언트 부스팅 등 제공</td>\n",
    "        </tr>\n",
    "        <tr>\n",
    "            <td>sklearn.linear_model</td>\n",
    "            <td>주로 선형 회귀, 릿지(Ridge), 라쏘(Lasso) 및 로지스틱 회귀 등 회귀 관련 알고리즘을 지원<br>또한 SGD(Stochastic Gradient Descent) 관련 알고리즘도 제공</td>\n",
    "        </tr>\n",
    "        <tr>\n",
    "            <td>sklearn.naive_bayes</td>\n",
    "            <td>나이브 베이즈 알고리즘(가우시안 NB, 다항 분포 NB 등) 제공</td>\n",
    "        </tr>\n",
    "        <tr>\n",
    "            <td>sklearn.neighbors</td>\n",
    "            <td>최근접 이웃 알고리즘(K-NN 등) 제공</td>\n",
    "        </tr>\n",
    "        <tr>\n",
    "            <td>sklearn.svm</td>\n",
    "            <td>서포트 벡터 머신 알고리즘 제공</td>\n",
    "        </tr>\n",
    "        <tr>\n",
    "            <td>sklearn.tree</td>\n",
    "            <td>의사 결정 트리 알고리즘 제공</td>\n",
    "        </tr>\n",
    "        <tr>\n",
    "            <td>sklearn.cluster</td>\n",
    "            <td>비지도 클러스터링 알고리즘(K-평균, 계층형, DBSCAN 등) 제공</td>\n",
    "        </tr>\n",
    "        <tr>\n",
    "            <td>유틸리티</td>\n",
    "            <td>sklearn.pipeline</td>\n",
    "            <td>피처 처리 등의 변환과 ML 알고리즘 학습, 예측 등을 함께 묶어서 실행할 수 있는 유틸리티 제공</td>\n",
    "        </tr>\n",
    "    </tbody>\n",
    "</table>"
   ]
  },
  {
   "cell_type": "markdown",
   "id": "e9817478",
   "metadata": {},
   "source": [
    "## 내장된 예제 데이터 세트"
   ]
  },
  {
   "cell_type": "code",
   "execution_count": null,
   "id": "dbae37f8",
   "metadata": {},
   "outputs": [],
   "source": []
  }
 ],
 "metadata": {
  "kernelspec": {
   "display_name": "Python 3",
   "language": "python",
   "name": "python3"
  },
  "language_info": {
   "codemirror_mode": {
    "name": "ipython",
    "version": 3
   },
   "file_extension": ".py",
   "mimetype": "text/x-python",
   "name": "python",
   "nbconvert_exporter": "python",
   "pygments_lexer": "ipython3",
   "version": "3.8.8"
  }
 },
 "nbformat": 4,
 "nbformat_minor": 5
}
